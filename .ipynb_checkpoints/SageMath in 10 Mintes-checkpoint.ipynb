{
 "cells": [
  {
   "cell_type": "markdown",
   "metadata": {
    "deletable": true,
    "editable": true
   },
   "source": [
    "##Part 1. Represent Graph in Sage  \n"
   ]
  },
  {
   "cell_type": "code",
   "execution_count": null,
   "metadata": {
    "collapsed": true,
    "deletable": true,
    "editable": true
   },
   "outputs": [],
   "source": [
    "from IPython.display import Image"
   ]
  },
  {
   "cell_type": "code",
   "execution_count": null,
   "metadata": {
    "collapsed": false,
    "deletable": true,
    "editable": true
   },
   "outputs": [],
   "source": [
    "Image(filename='G1.png') "
   ]
  },
  {
   "cell_type": "code",
   "execution_count": null,
   "metadata": {
    "collapsed": true,
    "deletable": true,
    "editable": true
   },
   "outputs": [],
   "source": [
    "# To create a Graph Object, use the Graph() constrctor"
   ]
  },
  {
   "cell_type": "code",
   "execution_count": null,
   "metadata": {
    "collapsed": true
   },
   "outputs": [],
   "source": [
    "G1 = Graph()\n",
    "# This will create an empty Graph object with no vertics/edges"
   ]
  },
  {
   "cell_type": "code",
   "execution_count": null,
   "metadata": {
    "collapsed": false
   },
   "outputs": [],
   "source": [
    "#G1.show()\n",
    "# Graph is empty "
   ]
  },
  {
   "cell_type": "code",
   "execution_count": null,
   "metadata": {
    "collapsed": false
   },
   "outputs": [],
   "source": [
    "G1 = Graph({'u1':['u2', 'u5', 'u4'], 'u2':['u1', 'u5','u4','u3'], 'u3':['u2', 'u4'], 'u4':['u2','u1', 'u5']})\n",
    "G1.show()"
   ]
  },
  {
   "cell_type": "code",
   "execution_count": null,
   "metadata": {
    "collapsed": true
   },
   "outputs": [],
   "source": [
    "# Define G2 "
   ]
  },
  {
   "cell_type": "code",
   "execution_count": null,
   "metadata": {
    "collapsed": false
   },
   "outputs": [],
   "source": [
    "Image(filename='G2.png') "
   ]
  },
  {
   "cell_type": "code",
   "execution_count": null,
   "metadata": {
    "collapsed": true
   },
   "outputs": [],
   "source": [
    "G2 = Graph()\n"
   ]
  },
  {
   "cell_type": "code",
   "execution_count": null,
   "metadata": {
    "collapsed": false
   },
   "outputs": [],
   "source": [
    "G2.add_edges(edges=[('u1', 'u2', \"e1\"), ('u2', 'u3', \"e2\"), ('u3', 'u4', \"e3\"), ('u4','u5', \"e4\"), ('u5', 'u1', \"e5\")]); \n",
    "G2.show(vertex_labels=True, edge_labels=True)"
   ]
  },
  {
   "cell_type": "code",
   "execution_count": null,
   "metadata": {
    "collapsed": true
   },
   "outputs": [],
   "source": [
    "def graph_iso(Graph1, Graph2):\n",
    "    \"\"\"\n",
    "    Print a message to let you know uf a graph is isomorphic\n",
    "    Prem: A, B (A and B are both graph objests)\n",
    "    Retuen: None\n",
    "    \"\"\"\n",
    "    print\"The two graphs ismorphic is {}\".format(Graph1.is_isomorphic(Graph2))\n",
    "    \n",
    "    "
   ]
  },
  {
   "cell_type": "code",
   "execution_count": null,
   "metadata": {
    "collapsed": false
   },
   "outputs": [],
   "source": [
    "A= G1.adjacency_matrix()"
   ]
  },
  {
   "cell_type": "code",
   "execution_count": null,
   "metadata": {
    "collapsed": false
   },
   "outputs": [],
   "source": [
    "B=G2.adjacency_matrix()"
   ]
  },
  {
   "cell_type": "code",
   "execution_count": null,
   "metadata": {
    "collapsed": false
   },
   "outputs": [],
   "source": [
    "if A==B: \n",
    "    print \"Equal\"\n",
    "else:\n",
    "    print \"Not Equal\""
   ]
  },
  {
   "cell_type": "code",
   "execution_count": null,
   "metadata": {
    "collapsed": false
   },
   "outputs": [],
   "source": [
    "graph_iso(G1, G2)"
   ]
  },
  {
   "cell_type": "code",
   "execution_count": null,
   "metadata": {
    "collapsed": true
   },
   "outputs": [],
   "source": [
    "def adj_inc(Graph_In):\n",
    "    \"\"\"\n",
    "    Prints the adjacency matrix and incidence matrix for a graph\n",
    "    Prem: Graph_in (an object of a graph)\n",
    "    Return: None\n",
    "    \"\"\"\n",
    "    print\"The adjacency matrix\\n{}\\n\".format(Graph_In.adjacency_matrix())\n",
    "    # print\"The incidence matrix\\n{}\\n\".format(Graph_In.incidence_matrix(oriented=False))\n"
   ]
  },
  {
   "cell_type": "markdown",
   "metadata": {},
   "source": [
    "## Undirected Graphs"
   ]
  },
  {
   "cell_type": "code",
   "execution_count": null,
   "metadata": {
    "collapsed": false
   },
   "outputs": [],
   "source": [
    "Image(filename='D1.png') "
   ]
  },
  {
   "cell_type": "code",
   "execution_count": null,
   "metadata": {
    "collapsed": true
   },
   "outputs": [],
   "source": [
    "D1 = DiGraph()"
   ]
  },
  {
   "cell_type": "code",
   "execution_count": null,
   "metadata": {
    "collapsed": false
   },
   "outputs": [],
   "source": [
    "#U1 edges \n",
    "D1.add_edge('u1', 'u4')\n",
    "#U2 edges \n",
    "D1.add_edge('u2', 'u5')\n",
    "#U3 edges \n",
    "D1.add_edge('u3', 'u6')\n",
    "D1.add_edge('u3', 'u4')\n",
    " #U4 edges \n",
    "D1.add_edge('u4', 'u2')\n",
    "#U5\n",
    "D1.add_edge('u5', 'u1')\n",
    "D1.add_edge('u5', 'u3')\n",
    "#U6\n",
    "D1.add_edge('u6', 'u1')\n",
    "D1.add_edge('u6', 'u2')\n",
    "D1.show3d()"
   ]
  },
  {
   "cell_type": "code",
   "execution_count": null,
   "metadata": {
    "collapsed": false
   },
   "outputs": [],
   "source": [
    "Image(filename=\"D2.png\")"
   ]
  },
  {
   "cell_type": "code",
   "execution_count": null,
   "metadata": {
    "collapsed": false
   },
   "outputs": [],
   "source": [
    "D2=DiGraph();  "
   ]
  },
  {
   "cell_type": "code",
   "execution_count": null,
   "metadata": {
    "collapsed": false
   },
   "outputs": [],
   "source": [
    "#V1 \n",
    "D2.add_edge('v1','v6')\n",
    "D2.add_edge('v1', 'v2')\n",
    "#V2 \n",
    "D2.add_edge('v2', 'v5')\n",
    "#V3\n",
    "D2.add_edge('v3', 'v2')\n",
    "D2.add_edge('v3', 'v4')\n",
    "#V4\n",
    "D2.add_edge('v4', 'v1')\n",
    "#V5 \n",
    "D2.add_edge('v5', 'v4')\n",
    "#V6\n",
    "D2.add_edge('v6', 'v5')\n",
    "D2.add_edge('v6', 'v3')\n",
    "D2.show3d()"
   ]
  },
  {
   "cell_type": "code",
   "execution_count": null,
   "metadata": {
    "collapsed": false
   },
   "outputs": [],
   "source": [
    "graph_iso(D1, D2)"
   ]
  },
  {
   "cell_type": "code",
   "execution_count": null,
   "metadata": {
    "collapsed": false
   },
   "outputs": [],
   "source": [
    "A = Graph(5,multiedges=True);A\n",
    "A.add_edges([(0,1,'E-1'),(0,4,'e-2'),(0,2,'E_3'),(1,3,'E_4'),(1,4,'E_5'),(1,4,'E_6'),(2,3,'E_7'),(2,4,'E_8'),(2,4,'E_9'),(3,4,'E_10')])\n",
    "A.relabel ({0:'a',1:'b',2:'c',3:'d',4:'e'})\n",
    "A.show(edge_labels=True)\n"
   ]
  },
  {
   "cell_type": "code",
   "execution_count": null,
   "metadata": {
    "collapsed": false
   },
   "outputs": [],
   "source": [
    "G3.eulerian_circuit()"
   ]
  },
  {
   "cell_type": "code",
   "execution_count": null,
   "metadata": {
    "collapsed": true
   },
   "outputs": [],
   "source": [
    "def euler_function(Graph):\n",
    "    path = 0\n",
    "    if Graph.eulerian_circuit() == False:\n",
    "        print\"\\nThe graph does not have an euler circuit\"\n",
    "        \n",
    "    else:\n",
    "        print\"\\nThis graph has a Eulerian circuit\"\n",
    "        print\"The circuit is {}\".format(Graph.eulerian_circuit())\n",
    "        path = 1;\n",
    "        \n",
    "    if Graph.is_eulerian(path = True) == False and path == 0:\n",
    "        print\"This graph does not have an Euledrian path\"\n",
    "    else:\n",
    "        print\"This graph has a Eulerian path \"\n",
    "        \n"
   ]
  },
  {
   "cell_type": "code",
   "execution_count": null,
   "metadata": {
    "collapsed": false
   },
   "outputs": [],
   "source": [
    "euler_function(G3)"
   ]
  },
  {
   "cell_type": "markdown",
   "metadata": {},
   "source": [
    "#Can someone cross all the bridges shown in this map exactly once and return to the starting point? "
   ]
  },
  {
   "cell_type": "code",
   "execution_count": null,
   "metadata": {
    "collapsed": false
   },
   "outputs": [],
   "source": [
    "Image(filename='ex.png') "
   ]
  },
  {
   "cell_type": "code",
   "execution_count": null,
   "metadata": {
    "collapsed": false
   },
   "outputs": [],
   "source": [
    "Image(filename='ex3.png') "
   ]
  },
  {
   "cell_type": "code",
   "execution_count": null,
   "metadata": {
    "collapsed": true
   },
   "outputs": [],
   "source": [
    "MyGraph=Graph(multiedges=True)\n",
    "MyGraph.add_edge(\"v1\", \"v2\")\n",
    "MyGraph.add_edge(\"v1\", \"v4\")\n",
    "MyGraph.add_edge(\"v2\", \"v3\")\n",
    "MyGraph.add_edge(\"v2\", \"v4\")\n",
    "MyGraph.add_edge(\"v2\", \"v4\")\n",
    "MyGraph.add_edge(\"v3\", \"v4\")"
   ]
  },
  {
   "cell_type": "code",
   "execution_count": null,
   "metadata": {
    "collapsed": false
   },
   "outputs": [],
   "source": [
    "MyGraph.graphplot(title=\"My Graph Title\", edge_style=\"dashed\", edge_labels=False, edge_color=\"red\").plot() "
   ]
  },
  {
   "cell_type": "code",
   "execution_count": null,
   "metadata": {
    "collapsed": false
   },
   "outputs": [],
   "source": [
    "MyGraph.num_edges()"
   ]
  },
  {
   "cell_type": "code",
   "execution_count": null,
   "metadata": {
    "collapsed": false
   },
   "outputs": [],
   "source": [
    "MyGraph.num_verts()"
   ]
  },
  {
   "cell_type": "code",
   "execution_count": null,
   "metadata": {
    "collapsed": false
   },
   "outputs": [],
   "source": [
    "MyGraph.eulerian_circuit()"
   ]
  },
  {
   "cell_type": "code",
   "execution_count": null,
   "metadata": {
    "collapsed": false
   },
   "outputs": [],
   "source": [
    "euler_function(MyGraph)"
   ]
  },
  {
   "cell_type": "markdown",
   "metadata": {},
   "source": [
    "#Usefull functions\n",
    "traveling_salesman_problem() Solve the traveling salesman problem (TSP)\n",
    "is_hamiltonian()\tTest whether the current graph is Hamiltonian.\n",
    "hamiltonian_cycle()\tReturn a Hamiltonian cycle/circuit of the current graph/digraph\n",
    "hamiltonian_path()\tReturn a Hamiltonian path of the current graph/digraph"
   ]
  },
  {
   "cell_type": "code",
   "execution_count": null,
   "metadata": {
    "collapsed": false
   },
   "outputs": [],
   "source": [
    "MyGraph.is_hamiltonian()"
   ]
  },
  {
   "cell_type": "code",
   "execution_count": null,
   "metadata": {
    "collapsed": false
   },
   "outputs": [],
   "source": [
    "MyGraph.hamiltonian_cycle()"
   ]
  },
  {
   "cell_type": "code",
   "execution_count": null,
   "metadata": {
    "collapsed": false
   },
   "outputs": [],
   "source": [
    "# It works only with Simple Graph multiedges=False\n",
    "MyGraph=Graph(multiedges=False)\n",
    "MyGraph.add_edge(\"v1\", \"v2\")\n",
    "MyGraph.add_edge(\"v1\", \"v4\")\n",
    "MyGraph.add_edge(\"v2\", \"v3\")\n",
    "MyGraph.add_edge(\"v2\", \"v4\")\n",
    "MyGraph.add_edge(\"v2\", \"v4\")\n",
    "MyGraph.add_edge(\"v3\", \"v4\")\n",
    "MyGraph.hamiltonian_path()"
   ]
  },
  {
   "cell_type": "code",
   "execution_count": null,
   "metadata": {
    "collapsed": true
   },
   "outputs": [],
   "source": []
  },
  {
   "cell_type": "code",
   "execution_count": null,
   "metadata": {
    "collapsed": true
   },
   "outputs": [],
   "source": []
  }
 ],
 "metadata": {
  "kernelspec": {
   "display_name": "SageMath 8.1",
   "language": "",
   "name": "sagemath"
  },
  "language_info": {
   "codemirror_mode": {
    "name": "ipython",
    "version": 2
   },
   "file_extension": ".py",
   "mimetype": "text/x-python",
   "name": "python",
   "nbconvert_exporter": "python",
   "pygments_lexer": "ipython2",
   "version": "2.7.14"
  }
 },
 "nbformat": 4,
 "nbformat_minor": 2
}
